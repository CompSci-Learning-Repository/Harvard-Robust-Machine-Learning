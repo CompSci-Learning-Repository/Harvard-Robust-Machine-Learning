{
 "cells": [
  {
   "cell_type": "markdown",
   "metadata": {},
   "source": [
    "\n",
    "# 2. Introduction to TensorFlow\n",
    "\n",
    "## What is TensorFlow?\n",
    "TensorFlow is an open source machine learning library developed by Google. It was originally being used internally, then it was open sourced in 2015. TensorFlow APIs are provided in `Python` and `C++`. We'll use the Python API, but note that most operations are implemented in `C++`under the hood for fast numerical computation. If interested, definitely check out the [source code](https://github.com/tensorflow/tensorflow), as some of the sample codes can be useful for your project as well.\n",
    "\n",
    "TensorFlow supports runs on multiple CPUs and GPUs, making it scalable in \"big data\" and \"deep learning\" settings. Another notable feature is TensorBoard, which is a visualization tool for your model runs (covered in Section ).\n",
    "\n",
    "## Why TensorFlow?\n",
    "TensorFlow is the go-to framework for modern machine learning. As you can see below, TensorFlow is by far the most popular deep learning framework on GitHub. This also means that there are tons of sample code, StackOverflow questions and blog posts online. It's very powerful.\n",
    "\n",
    "![](images/2_tensorflow.png)\n",
    "\n",
    "Although we'll be using TensorFlow, other libraries are also very nice, and there are many others not on this graph that are unique and interesting too.\n",
    "\n",
    "Few notes on some of the other libraries listed above:\n",
    "- Keras: Think of Keras as a \"wrapper\" for other libraries like TensorFlow and Theano. The APIs are much higher level, and so you can run reasonably sophisticated neural network models very quickly. For example, check out that [LSTM](https://keras.io/layers/recurrent/#lstm) is just a one liner! Citing the [Keras documentation](https://keras.io/), \"It was developed with a focus on enabling fast experimentation. Being able to go from idea to result with the least possible delay is key to doing good research.\"\n",
    "- PyTorch: Primarily developed by Facebook people. Sasha likes it. The main difference between Tensorflow is that it is \"imperative\". What does it mean? Citing the [PyTorch documentation](http://pytorch.org/about/), \"PyTorch is designed to be intuitive, linear in thought and easy to use. When you execute a line of code, it gets executed. There isn’t an asynchronous view of the world.\"\n",
    "- Theano: Unfortunately, the library development and support ended in 2017. So I don't recommend using it if you're new. I know a couple of people who have been using it for their reseach, but are trying to convert their code to TensorFlow.\n",
    "\n",
    "## Exercise\n",
    "Google or search on GitHub and find three interesting open source projects on machine learning and deep learning.\n",
    "\n",
    "- Pyro\n",
    "- Colaboratory\n",
    "- PaintsChainer \n",
    "\n",
    "## Reference\n",
    "- [Stanford CS224d, Deep Learning for NLP](http://web.stanford.edu/class/cs224n/syllabus.html)"
   ]
  },
  {
   "cell_type": "code",
   "execution_count": null,
   "metadata": {},
   "outputs": [],
   "source": []
  }
 ],
 "metadata": {
  "kernelspec": {
   "display_name": "Python [conda env:tensorflow_workshop]",
   "language": "python",
   "name": "conda-env-tensorflow_workshop-py"
  },
  "language_info": {
   "codemirror_mode": {
    "name": "ipython",
    "version": 3
   },
   "file_extension": ".py",
   "mimetype": "text/x-python",
   "name": "python",
   "nbconvert_exporter": "python",
   "pygments_lexer": "ipython3",
   "version": "3.6.4"
  }
 },
 "nbformat": 4,
 "nbformat_minor": 2
}
