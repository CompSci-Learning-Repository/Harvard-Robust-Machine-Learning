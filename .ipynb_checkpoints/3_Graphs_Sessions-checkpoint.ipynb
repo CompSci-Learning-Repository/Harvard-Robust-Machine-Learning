{
 "cells": [
  {
   "cell_type": "markdown",
   "metadata": {
    "collapsed": true
   },
   "source": [
    "# 3. Graphs and Sessions\n",
    "\n",
    "Development in TensorFlow is a two step process:\n",
    "1. First, Build a computation graph.\n",
    "2. Then, create a session to execute operations in the graph.\n",
    "\n",
    "What is a computation graph? What is a session? \n",
    "\n",
    "TL;DR (quoted from [some guy's blog](https://danijar.com/what-is-a-tensorflow-session/))\n",
    "- A **graph** defines the computation. It doesn’t compute anything, it doesn’t hold any values, it just defines the operations that you specified in your code.\n",
    "- A **session** allows to execute graphs or part of graphs. It allocates resources (on one or more machines) for that and holds the actual values of intermediate results and variables.\n",
    "\n",
    "Let's take a look at them one at a time."
   ]
  },
  {
   "cell_type": "markdown",
   "metadata": {},
   "source": [
    "## Computations Graphs"
   ]
  },
  {
   "cell_type": "code",
   "execution_count": 1,
   "metadata": {},
   "outputs": [
    {
     "data": {
      "image/jpeg": "[encoded data removed]",
      "text/html": [
       "\n",
       "        <iframe\n",
       "            width=\"400\"\n",
       "            height=\"300\"\n",
       "            src=\"https://www.youtube.com/embed/hCP1vGoCdYU\"\n",
       "            frameborder=\"0\"\n",
       "            allowfullscreen\n",
       "        ></iframe>\n",
       "        "
      ],
      "text/plain": [
       "<IPython.lib.display.YouTubeVideo at 0x109520748>"
      ]
     },
     "execution_count": 1,
     "metadata": {},
     "output_type": "execute_result"
    }
   ],
   "source": [
    "from IPython.lib.display import YouTubeVideo\n",
    "YouTubeVideo('hCP1vGoCdYU')"
   ]
  },
  {
   "cell_type": "markdown",
   "metadata": {},
   "source": [
    "Ok, let's try to do compute $3(a+bc)$ ourselves. For now, let's assume they are integer constants. The computation graph is built in TensorFlow as follows:"
   ]
  },
  {
   "cell_type": "code",
   "execution_count": 2,
   "metadata": {},
   "outputs": [],
   "source": [
    "import tensorflow as tf\n",
    "\n",
    "a = tf.constant(3) # define an integer constant as a TensorFlow tensor\n",
    "b = tf.constant(4)\n",
    "c = tf.constant(5)\n",
    "J = 3 * (a + b * c) # add and multiply just like in Python (see section 4 for more)"
   ]
  },
  {
   "cell_type": "markdown",
   "metadata": {},
   "source": [
    "Ok, cool! What's inside the variable `J`? Let's print it out:"
   ]
  },
  {
   "cell_type": "code",
   "execution_count": 3,
   "metadata": {},
   "outputs": [
    {
     "data": {
      "text/plain": [
       "<tf.Tensor 'mul_1:0' shape=() dtype=int32>"
      ]
     },
     "execution_count": 3,
     "metadata": {},
     "output_type": "execute_result"
    }
   ],
   "source": [
    "J"
   ]
  },
  {
   "cell_type": "markdown",
   "metadata": {},
   "source": [
    "Why is the output not 69!? To understand this, we need to understand what computation graphs are. As noted above, a computation graph is a chain of numerical operations. As in the case of the above operation, it will look like this:"
   ]
  },
  {
   "cell_type": "code",
   "execution_count": 4,
   "metadata": {},
   "outputs": [],
   "source": [
    "from utils import tf_to_dot"
   ]
  },
  {
   "cell_type": "code",
   "execution_count": 5,
   "metadata": {},
   "outputs": [
    {
     "data": {
      "image/svg+xml": [
       "<?xml version=\"1.0\" encoding=\"UTF-8\" standalone=\"no\"?>\n",
       "<!DOCTYPE svg PUBLIC \"-//W3C//DTD SVG 1.1//EN\"\n",
       " \"http://www.w3.org/Graphics/SVG/1.1/DTD/svg11.dtd\">\n",
       "<!-- Generated by graphviz version 2.38.0 (20140413.2041)\n",
       " -->\n",
       "<!-- Title: %3 Pages: 1 -->\n",
       "<svg width=\"196pt\" height=\"260pt\"\n",
       " viewBox=\"0.00 0.00 195.59 260.00\" xmlns=\"http://www.w3.org/2000/svg\" xmlns:xlink=\"http://www.w3.org/1999/xlink\">\n",
       "<g id=\"graph0\" class=\"graph\" transform=\"scale(1 1) rotate(0) translate(4 256)\">\n",
       "<title>%3</title>\n",
       "<polygon fill=\"white\" stroke=\"none\" points=\"-4,4 -4,-256 191.586,-256 191.586,4 -4,4\"/>\n",
       "<!-- a -->\n",
       "<g id=\"node1\" class=\"node\"><title>a</title>\n",
       "<ellipse fill=\"none\" stroke=\"black\" cx=\"27\" cy=\"-162\" rx=\"27\" ry=\"18\"/>\n",
       "<text text-anchor=\"middle\" x=\"27\" y=\"-157.8\" font-family=\"Times,serif\" font-size=\"14.00\">a</text>\n",
       "</g>\n",
       "<!-- add -->\n",
       "<g id=\"node5\" class=\"node\"><title>add</title>\n",
       "<ellipse fill=\"none\" stroke=\"black\" cx=\"63\" cy=\"-90\" rx=\"27\" ry=\"18\"/>\n",
       "<text text-anchor=\"middle\" x=\"63\" y=\"-85.8\" font-family=\"Times,serif\" font-size=\"14.00\">add</text>\n",
       "</g>\n",
       "<!-- a&#45;&gt;add -->\n",
       "<g id=\"edge3\" class=\"edge\"><title>a&#45;&gt;add</title>\n",
       "<path fill=\"none\" stroke=\"black\" d=\"M35.3496,-144.765C39.7115,-136.283 45.1469,-125.714 50.0413,-116.197\"/>\n",
       "<polygon fill=\"black\" stroke=\"black\" points=\"53.2346,-117.641 54.6957,-107.147 47.0096,-114.439 53.2346,-117.641\"/>\n",
       "</g>\n",
       "<!-- b -->\n",
       "<g id=\"node2\" class=\"node\"><title>b</title>\n",
       "<ellipse fill=\"none\" stroke=\"black\" cx=\"63\" cy=\"-234\" rx=\"27\" ry=\"18\"/>\n",
       "<text text-anchor=\"middle\" x=\"63\" y=\"-229.8\" font-family=\"Times,serif\" font-size=\"14.00\">b</text>\n",
       "</g>\n",
       "<!-- mul -->\n",
       "<g id=\"node4\" class=\"node\"><title>mul</title>\n",
       "<ellipse fill=\"none\" stroke=\"black\" cx=\"99\" cy=\"-162\" rx=\"27\" ry=\"18\"/>\n",
       "<text text-anchor=\"middle\" x=\"99\" y=\"-157.8\" font-family=\"Times,serif\" font-size=\"14.00\">mul</text>\n",
       "</g>\n",
       "<!-- b&#45;&gt;mul -->\n",
       "<g id=\"edge1\" class=\"edge\"><title>b&#45;&gt;mul</title>\n",
       "<path fill=\"none\" stroke=\"black\" d=\"M71.3496,-216.765C75.7115,-208.283 81.1469,-197.714 86.0413,-188.197\"/>\n",
       "<polygon fill=\"black\" stroke=\"black\" points=\"89.2346,-189.641 90.6957,-179.147 83.0096,-186.439 89.2346,-189.641\"/>\n",
       "</g>\n",
       "<!-- c -->\n",
       "<g id=\"node3\" class=\"node\"><title>c</title>\n",
       "<ellipse fill=\"none\" stroke=\"black\" cx=\"135\" cy=\"-234\" rx=\"27\" ry=\"18\"/>\n",
       "<text text-anchor=\"middle\" x=\"135\" y=\"-229.8\" font-family=\"Times,serif\" font-size=\"14.00\">c</text>\n",
       "</g>\n",
       "<!-- c&#45;&gt;mul -->\n",
       "<g id=\"edge2\" class=\"edge\"><title>c&#45;&gt;mul</title>\n",
       "<path fill=\"none\" stroke=\"black\" d=\"M126.65,-216.765C122.288,-208.283 116.853,-197.714 111.959,-188.197\"/>\n",
       "<polygon fill=\"black\" stroke=\"black\" points=\"114.99,-186.439 107.304,-179.147 108.765,-189.641 114.99,-186.439\"/>\n",
       "</g>\n",
       "<!-- mul&#45;&gt;add -->\n",
       "<g id=\"edge4\" class=\"edge\"><title>mul&#45;&gt;add</title>\n",
       "<path fill=\"none\" stroke=\"black\" d=\"M90.6504,-144.765C86.2885,-136.283 80.8531,-125.714 75.9587,-116.197\"/>\n",
       "<polygon fill=\"black\" stroke=\"black\" points=\"78.9904,-114.439 71.3043,-107.147 72.7654,-117.641 78.9904,-114.439\"/>\n",
       "</g>\n",
       "<!-- mul_1 -->\n",
       "<g id=\"node7\" class=\"node\"><title>mul_1</title>\n",
       "<ellipse fill=\"none\" stroke=\"black\" cx=\"105\" cy=\"-18\" rx=\"32.9168\" ry=\"18\"/>\n",
       "<text text-anchor=\"middle\" x=\"105\" y=\"-13.8\" font-family=\"Times,serif\" font-size=\"14.00\">mul_1</text>\n",
       "</g>\n",
       "<!-- add&#45;&gt;mul_1 -->\n",
       "<g id=\"edge6\" class=\"edge\"><title>add&#45;&gt;mul_1</title>\n",
       "<path fill=\"none\" stroke=\"black\" d=\"M72.5305,-73.1159C77.666,-64.5567 84.1215,-53.7974 89.921,-44.1316\"/>\n",
       "<polygon fill=\"black\" stroke=\"black\" points=\"93.072,-45.6827 95.2158,-35.307 87.0696,-42.0812 93.072,-45.6827\"/>\n",
       "</g>\n",
       "<!-- mul_1/x -->\n",
       "<g id=\"node6\" class=\"node\"><title>mul_1/x</title>\n",
       "<ellipse fill=\"none\" stroke=\"black\" cx=\"148\" cy=\"-90\" rx=\"39.6731\" ry=\"18\"/>\n",
       "<text text-anchor=\"middle\" x=\"148\" y=\"-85.8\" font-family=\"Times,serif\" font-size=\"14.00\">mul_1/x</text>\n",
       "</g>\n",
       "<!-- mul_1/x&#45;&gt;mul_1 -->\n",
       "<g id=\"edge5\" class=\"edge\"><title>mul_1/x&#45;&gt;mul_1</title>\n",
       "<path fill=\"none\" stroke=\"black\" d=\"M137.81,-72.411C132.615,-63.9549 126.189,-53.4944 120.405,-44.0783\"/>\n",
       "<polygon fill=\"black\" stroke=\"black\" points=\"123.334,-42.1587 115.117,-35.4699 117.369,-45.8227 123.334,-42.1587\"/>\n",
       "</g>\n",
       "</g>\n",
       "</svg>\n"
      ],
      "text/plain": [
       "<graphviz.dot.Digraph at 0x115089a58>"
      ]
     },
     "execution_count": 5,
     "metadata": {},
     "output_type": "execute_result"
    }
   ],
   "source": [
    "## Warning: Some people reported that this code doesn't run. \n",
    "##          If that's the case, please ignore this cell for now, as this is not an essential part of the workshop. \n",
    "\n",
    "g = tf.Graph()\n",
    "\n",
    "with g.as_default():\n",
    "    a = tf.constant(3, name='a')\n",
    "    b = tf.constant(4, name='b')\n",
    "    c = tf.constant(5, name='c')\n",
    "    J = 3 * (a + b * c)\n",
    "    \n",
    "tf_to_dot(g)"
   ]
  },
  {
   "cell_type": "markdown",
   "metadata": {},
   "source": [
    "## Sessions\n",
    "\n",
    "Now that we defined a computation graph, the next thing to do is to actually evaluate it. To do so, we use a session. A session creates an environment where operations in the graph are executed and values are evaluated."
   ]
  },
  {
   "cell_type": "code",
   "execution_count": 6,
   "metadata": {},
   "outputs": [
    {
     "name": "stdout",
     "output_type": "stream",
     "text": [
      "69\n"
     ]
    }
   ],
   "source": [
    "tf.reset_default_graph() # Clearing all tensors before this\n",
    "\n",
    "a = tf.constant(3)\n",
    "b = tf.constant(4)\n",
    "c = tf.constant(5)\n",
    "J = 3 * (a + b * c)\n",
    "\n",
    "with tf.Session() as sess:\n",
    "    print(sess.run(J))"
   ]
  },
  {
   "cell_type": "markdown",
   "metadata": {},
   "source": [
    "## Exercise\n",
    "\n",
    "1) Write your favorite operation in TensorFlow.\n",
    "\n",
    "2) Print the computation graph corresponding to that operation.\n",
    "\n",
    "3) Evaluate the result using session."
   ]
  },
  {
   "cell_type": "markdown",
   "metadata": {},
   "source": [
    "## Eager Mode\n",
    "\n",
    "Not that this two step development process may change if eager mode is fully introduced in TensorFlow. Eager mode is a different machine learning programming paradigm, primarily adopted by PyTorch, as I've mentioned in the previous section. I won't go into details here. You can read more about it [here](https://research.googleblog.com/2017/10/eager-execution-imperative-define-by.html)."
   ]
  }
 ],
 "metadata": {
  "kernelspec": {
   "display_name": "Python [conda env:tensorflow_workshop]",
   "language": "python",
   "name": "conda-env-tensorflow_workshop-py"
  },
  "language_info": {
   "codemirror_mode": {
    "name": "ipython",
    "version": 3
   },
   "file_extension": ".py",
   "mimetype": "text/x-python",
   "name": "python",
   "nbconvert_exporter": "python",
   "pygments_lexer": "ipython3",
   "version": "3.6.4"
  }
 },
 "nbformat": 4,
 "nbformat_minor": 1
}
