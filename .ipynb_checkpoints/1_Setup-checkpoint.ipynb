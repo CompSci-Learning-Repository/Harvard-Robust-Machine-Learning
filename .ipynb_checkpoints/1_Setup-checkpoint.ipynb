{
 "cells": [
  {
   "cell_type": "markdown",
   "metadata": {},
   "source": [
    "\n",
    "## Setup\n",
    "Note: If you're already comfortable with `anaconda` and `jupyter notebook`, feel free to skip these steps and start the exercises.\n",
    "\n",
    "### Installing Anaconda\n",
    "\n",
    "We will be using `anaconda` for this workshop, and we highly recommend you do so for your own projects. `anaconda` provides a \"tool box\" for ML; it comes with various libraries you need to do ML in python. Another neat thing about `anaconda` is that you can create a virtual environment, which is a separate python environment from the default one on your computer. Virtual environments allow us to separate library dependencies across projects and make it easier for us to share our environment setups with other developers.\n",
    "\n",
    "You can install Anaconda [here](https://www.anaconda.com/download). Please download `Python3.6` version. Once you finished installing it run on your terminal:\n",
    "\n",
    "```\n",
    "conda -V\n",
    "```\n",
    "\n",
    "if you see the version of your conda (e.g. `5.0.1`), success! If not, google around and try hard to make it work...\n",
    "\n",
    "### Setting up Jupyter\n",
    "\n",
    "Clone this repository and run the following:\n",
    "```\n",
    "conda env create environment.yml       # create conda virtual environment\n",
    "source activate tensorflow_workshop    # activate the virtual environment\n",
    "jupyter notebook                       # open jupyter on your default browser\n",
    "```\n",
    "Once you open `jupyter notebook`, make sure the kernel is set to `Python [conda env:tensorflow_workshop]`.\n",
    "\n",
    "![alt text](images/1_setup.png)\n",
    "\n",
    "Once you're done with your work, you can deactivate to get out of the virtual environment:\n",
    "```\n",
    "source deactivate                      # get out of the virtual environment\n",
    "```\n",
    "\n",
    "### You're all set!\n",
    "\n",
    "Now, you are ready to start writing some `tensorflow` code on `jupyter notebook` :)\n"
   ]
  }
 ],
 "metadata": {
  "kernelspec": {
   "display_name": "Python [conda env:tensorflow_workshop]",
   "language": "python",
   "name": "conda-env-tensorflow_workshop-py"
  },
  "language_info": {
   "codemirror_mode": {
    "name": "ipython",
    "version": 3
   },
   "file_extension": ".py",
   "mimetype": "text/x-python",
   "name": "python",
   "nbconvert_exporter": "python",
   "pygments_lexer": "ipython3",
   "version": "3.6.4"
  }
 },
 "nbformat": 4,
 "nbformat_minor": 2
}
