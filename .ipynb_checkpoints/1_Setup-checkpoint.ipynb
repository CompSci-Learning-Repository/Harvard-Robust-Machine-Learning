{
 "cells": [
  {
   "cell_type": "markdown",
   "metadata": {},
   "source": [
    "\n",
    "# 1. Setup\n",
    "Note: If you're already comfortable with `anaconda` and `jupyter notebook`, feel free to skip these steps and start the exercises. We'll be using `python 3.6.4` and `tensorflow 1.3.0`.\n",
    "\n",
    "## Installing Anaconda\n",
    "\n",
    "We will be using `anaconda` for this workshop. We highly recommend you do so for your own projects. `anaconda` is a \"tool box\" for ML; it comes with various libraries you need to do ML in python. Another neat thing about `anaconda` is that you can create a virtual environment, which is a separate python environment from the default one on your laptop. Virtual environments allow us to separate library dependencies across projects and make it easier for us to share our environment setups with other developers. In fact, we are going to do that right now!\n",
    "\n",
    "You can install Anaconda [here](https://www.anaconda.com/download). **Please download the `Python3.6` version.** Once you finished installing it run on your terminal:\n",
    "\n",
    "```\n",
    "conda -V\n",
    "```\n",
    "\n",
    "if you see the version of your conda (e.g. `5.0.1`), success! If not, google around and try hard to make it work...\n",
    "\n",
    "Even if you have `conda` installed already, make sure it is up-to-date. Run\n",
    "\n",
    "```\n",
    "conda update conda\n",
    "```\n",
    "\n",
    "## Setting up Jupyter\n",
    "\n",
    "First, [fork](https://help.github.com/articles/fork-a-repo/) this repository to your account.\n",
    "Second, open up your terminal and [`git clone`](https://help.github.com/articles/cloning-a-repository/) the forked repo to your laptop. If either of these don't work, click the link and read the github help page. Once you cloned, run the following:\n",
    "```\n",
    "conda env create environment.yml       # create conda virtual environment\n",
    "source activate tensorflow_workshop    # activate the virtual environment\n",
    "jupyter notebook                       # open jupyter on your default browser\n",
    "```\n",
    "\n",
    "The first line might take a while, but be patient.\n",
    "The last line should open the notebook on your default browser. Once you open `jupyter notebook`, make sure the kernel is set to `Python [conda env:tensorflow_workshop]`.\n",
    "\n",
    "![alt text](images/1_setup.png)\n",
    "\n",
    "Try opening some code in `3_Graphs_Sessions.ipynb`. If it successfully runs, great! Once you're done with your work, you can deactivate to get out of the virtual environment. Run on your terminal:\n",
    "```\n",
    "source deactivate                      # get out of the virtual environment\n",
    "```\n",
    "\n",
    "## You're all set!\n",
    "\n",
    "Now, you are ready to start writing some `tensorflow` code on `jupyter notebook` :)\n",
    "\n",
    "If you've never used `jupyter notebook` before, you might want to watch the following video:"
   ]
  },
  {
   "cell_type": "code",
   "execution_count": null,
   "metadata": {},
   "outputs": [],
   "source": [
    "from IPython.lib.display import YouTubeVideo\n",
    "YouTubeVideo('HW29067qVWk')"
   ]
  }
 ],
 "metadata": {
  "kernelspec": {
   "display_name": "Python [conda env:tensorflow_workshop]",
   "language": "python",
   "name": "conda-env-tensorflow_workshop-py"
  },
  "language_info": {
   "codemirror_mode": {
    "name": "ipython",
    "version": 3
   },
   "file_extension": ".py",
   "mimetype": "text/x-python",
   "name": "python",
   "nbconvert_exporter": "python",
   "pygments_lexer": "ipython3",
   "version": "3.6.4"
  }
 },
 "nbformat": 4,
 "nbformat_minor": 2
}
