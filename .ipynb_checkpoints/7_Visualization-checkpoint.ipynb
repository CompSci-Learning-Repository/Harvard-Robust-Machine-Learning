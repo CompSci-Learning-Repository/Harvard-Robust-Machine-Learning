{
 "cells": [
  {
   "cell_type": "markdown",
   "metadata": {},
   "source": [
    "# Visualization Using TensorBoard\n",
    "Computation graphs are hard to imagine. The progress of training is also hard to imagine. Let's visualize them. Fortunately, TensorFlow makes this very very easy with TensorBoard. "
   ]
  },
  {
   "cell_type": "code",
   "execution_count": 9,
   "metadata": {},
   "outputs": [],
   "source": [
    "import tensorflow as tf"
   ]
  },
  {
   "cell_type": "markdown",
   "metadata": {},
   "source": [
    "In the section 4, we had the following code:"
   ]
  },
  {
   "cell_type": "code",
   "execution_count": 10,
   "metadata": {},
   "outputs": [
    {
     "name": "stdout",
     "output_type": "stream",
     "text": [
      "a: 5\n"
     ]
    }
   ],
   "source": [
    "a = tf.add(2,3)       \n",
    "\n",
    "with tf.Session() as sess:\n",
    "    print('a:',sess.run(a))"
   ]
  },
  {
   "cell_type": "markdown",
   "metadata": {},
   "source": [
    "Let's rewrite this code using more TensorFlow:"
   ]
  },
  {
   "cell_type": "code",
   "execution_count": 11,
   "metadata": {},
   "outputs": [
    {
     "name": "stdout",
     "output_type": "stream",
     "text": [
      "sum_: 5\n"
     ]
    }
   ],
   "source": [
    "a = tf.constant(2, name = 'a')\n",
    "b = tf.constant(3, name = 'b')\n",
    "sum_ = tf.add(a,b, name = 'sum_')       \n",
    "\n",
    "with tf.Session() as sess:\n",
    "    print('sum_:',sess.run(sum_))"
   ]
  },
  {
   "cell_type": "markdown",
   "metadata": {},
   "source": [
    "## Basic Visualization"
   ]
  },
  {
   "cell_type": "markdown",
   "metadata": {},
   "source": [
    "How does the computation graph of this code look like? Let's visualize it using TensorBoard. To do this, you just need to add one line to the code:"
   ]
  },
  {
   "cell_type": "code",
   "execution_count": 12,
   "metadata": {},
   "outputs": [
    {
     "name": "stdout",
     "output_type": "stream",
     "text": [
      "sum_: 5\n"
     ]
    }
   ],
   "source": [
    "tf.reset_default_graph() # Clearing all tensors before this\n",
    "a = tf.constant(2, name = 'a')\n",
    "b = tf.constant(3, name = 'b')\n",
    "sum_ = tf.add(a,b, name = 'sum_')       \n",
    "\n",
    "with tf.Session() as sess:\n",
    "    print('sum_:',sess.run(sum_))\n",
    "    writer = tf.summary.FileWriter('log/simple', sess.graph) # NEW!\n",
    "    writer.close()"
   ]
  },
  {
   "cell_type": "markdown",
   "metadata": {},
   "source": [
    "This should create a new directory called `log` to where this Jupyter Notebook is located. Now, run the following on your local terminal, \n",
    "\n",
    "`tensorboard --logdir=log/simple`\n",
    "\n",
    "Then, head to `http://localhost:6006` and see for yourself that the graph is being visualized!"
   ]
  },
  {
   "cell_type": "markdown",
   "metadata": {},
   "source": [
    "## Logistic Regression Visualization"
   ]
  },
  {
   "cell_type": "markdown",
   "metadata": {},
   "source": [
    "### Simple Visualization"
   ]
  },
  {
   "cell_type": "code",
   "execution_count": 13,
   "metadata": {},
   "outputs": [],
   "source": [
    "tf.reset_default_graph() # Clearing all tensors before this"
   ]
  },
  {
   "cell_type": "code",
   "execution_count": 14,
   "metadata": {},
   "outputs": [
    {
     "name": "stdout",
     "output_type": "stream",
     "text": [
      "Extracting MNIST_data/train-images-idx3-ubyte.gz\n",
      "Extracting MNIST_data/train-labels-idx1-ubyte.gz\n",
      "Extracting MNIST_data/t10k-images-idx3-ubyte.gz\n",
      "Extracting MNIST_data/t10k-labels-idx1-ubyte.gz\n"
     ]
    }
   ],
   "source": [
    "\n",
    "\n",
    "# Import MINST data\n",
    "from tensorflow.examples.tutorials.mnist import input_data\n",
    "mnist = input_data.read_data_sets('MNIST_data', one_hot=True)\n",
    "\n",
    "# Variables\n",
    "M = 784\n",
    "K = 10\n",
    "X = tf.placeholder(tf.float32, shape=[None, M])\n",
    "Y = tf.placeholder(tf.float32, shape=[None, K])\n",
    "W = tf.Variable(tf.zeros([M, K]))\n",
    "b = tf.Variable(tf.zeros([K]))\n",
    "\n",
    "# Model\n",
    "Yhat = tf.nn.softmax(tf.matmul(X, W) + b)\n",
    "\n",
    "# Loss\n",
    "loss = tf.reduce_mean(-tf.reduce_sum(Y*tf.log(Yhat), axis=1))\n",
    "\n",
    "# Optimizer\n",
    "learning_rate = 0.01\n",
    "optimizer = tf.train.GradientDescentOptimizer(learning_rate).minimize(loss)"
   ]
  },
  {
   "cell_type": "code",
   "execution_count": 15,
   "metadata": {},
   "outputs": [],
   "source": [
    "# Train\n",
    "num_epochs  = 25\n",
    "batch_size  = 100\n",
    "\n",
    "with tf.Session() as sess:\n",
    "    writer = tf.summary.FileWriter('log/logistic1', sess.graph) # NEW!\n",
    "    writer.close()"
   ]
  },
  {
   "cell_type": "markdown",
   "metadata": {},
   "source": [
    "### Better: Name the variables"
   ]
  },
  {
   "cell_type": "code",
   "execution_count": 16,
   "metadata": {},
   "outputs": [],
   "source": [
    "tf.reset_default_graph() # Clearing all tensors before this"
   ]
  },
  {
   "cell_type": "code",
   "execution_count": 17,
   "metadata": {},
   "outputs": [
    {
     "name": "stdout",
     "output_type": "stream",
     "text": [
      "Extracting MNIST_data/train-images-idx3-ubyte.gz\n",
      "Extracting MNIST_data/train-labels-idx1-ubyte.gz\n",
      "Extracting MNIST_data/t10k-images-idx3-ubyte.gz\n",
      "Extracting MNIST_data/t10k-labels-idx1-ubyte.gz\n"
     ]
    }
   ],
   "source": [
    "\n",
    "\n",
    "# Import MINST data\n",
    "from tensorflow.examples.tutorials.mnist import input_data\n",
    "mnist = input_data.read_data_sets('MNIST_data', one_hot=True)\n",
    "\n",
    "# Variables\n",
    "M = 784\n",
    "K = 10\n",
    "X = tf.placeholder(tf.float32, shape=[None, M], name='Input-Images')\n",
    "Y = tf.placeholder(tf.float32, shape=[None, K], name='Output-Labels')\n",
    "W = tf.get_variable('Weights', initializer=tf.zeros([M, K]))\n",
    "b = tf.get_variable('Bias', initializer=tf.zeros([K]))\n",
    "\n",
    "# Model\n",
    "Yhat = tf.nn.softmax(tf.matmul(X, W) + b, name='Prediction-Labels')\n",
    "\n",
    "# Loss\n",
    "loss = tf.reduce_mean(-tf.reduce_sum(Y*tf.log(Yhat), axis=1), name=\"Cross-Entropy-Loss\")\n",
    "\n",
    "# Optimizer\n",
    "learning_rate = 0.01\n",
    "optimizer = tf.train.GradientDescentOptimizer(learning_rate, name=\"SGD-Optimizer\")\n",
    "update    = optimizer.minimize(loss)"
   ]
  },
  {
   "cell_type": "code",
   "execution_count": 18,
   "metadata": {},
   "outputs": [],
   "source": [
    "# Train\n",
    "num_epochs  = 25\n",
    "batch_size  = 100\n",
    "\n",
    "with tf.Session() as sess:\n",
    "    writer = tf.summary.FileWriter('log/logistic2', sess.graph) # NEW!\n",
    "    writer.close()"
   ]
  },
  {
   "cell_type": "markdown",
   "metadata": {},
   "source": [
    "### Even Better: Group Variables Together"
   ]
  },
  {
   "cell_type": "code",
   "execution_count": 19,
   "metadata": {},
   "outputs": [],
   "source": [
    "tf.reset_default_graph() # Clearing all tensors before this"
   ]
  },
  {
   "cell_type": "code",
   "execution_count": 20,
   "metadata": {},
   "outputs": [
    {
     "name": "stdout",
     "output_type": "stream",
     "text": [
      "Extracting MNIST_data/train-images-idx3-ubyte.gz\n",
      "Extracting MNIST_data/train-labels-idx1-ubyte.gz\n",
      "Extracting MNIST_data/t10k-images-idx3-ubyte.gz\n",
      "Extracting MNIST_data/t10k-labels-idx1-ubyte.gz\n"
     ]
    }
   ],
   "source": [
    "# Import MINST data\n",
    "from tensorflow.examples.tutorials.mnist import input_data\n",
    "mnist = input_data.read_data_sets('MNIST_data', one_hot=True)\n",
    "\n",
    "M = 784\n",
    "K = 10\n",
    "with tf.name_scope('data'):\n",
    "    X = tf.placeholder(tf.float32, shape=[None, M], name='Input-Images')\n",
    "    Y = tf.placeholder(tf.float32, shape=[None, K], name='Output-Labels')\n",
    "    W = tf.get_variable('Weights', initializer=tf.zeros([M, K]))\n",
    "    b = tf.get_variable('Bias', initializer=tf.zeros([K]))\n",
    "\n",
    "with tf.name_scope('model'):\n",
    "    Yhat = tf.nn.softmax(tf.matmul(X, W) + b, name='Prediction-Labels')\n",
    "\n",
    "with tf.name_scope('loss'):\n",
    "    loss = tf.reduce_mean(-tf.reduce_sum(Y*tf.log(Yhat), axis=1), name=\"Cross-Entropy-Loss\")\n",
    "\n",
    "with tf.name_scope('optimizer'):\n",
    "    learning_rate = 0.01\n",
    "    optimizer = tf.train.GradientDescentOptimizer(learning_rate, name=\"SGD-Optimizer\")\n",
    "    update    = optimizer.minimize(loss)\n"
   ]
  },
  {
   "cell_type": "code",
   "execution_count": 21,
   "metadata": {},
   "outputs": [],
   "source": [
    "# Train\n",
    "num_epochs  = 25\n",
    "batch_size  = 100\n",
    "\n",
    "with tf.Session() as sess:\n",
    "    writer = tf.summary.FileWriter('log/logistic3', sess.graph) # NEW!\n",
    "    writer.close()"
   ]
  },
  {
   "cell_type": "markdown",
   "metadata": {},
   "source": [
    "### Even Even Better: Create Summaries to Track Training"
   ]
  },
  {
   "cell_type": "code",
   "execution_count": 22,
   "metadata": {},
   "outputs": [],
   "source": [
    "tf.reset_default_graph() # Clearing all tensors before this"
   ]
  },
  {
   "cell_type": "code",
   "execution_count": 23,
   "metadata": {},
   "outputs": [
    {
     "name": "stdout",
     "output_type": "stream",
     "text": [
      "Extracting MNIST_data/train-images-idx3-ubyte.gz\n",
      "Extracting MNIST_data/train-labels-idx1-ubyte.gz\n",
      "Extracting MNIST_data/t10k-images-idx3-ubyte.gz\n",
      "Extracting MNIST_data/t10k-labels-idx1-ubyte.gz\n"
     ]
    }
   ],
   "source": [
    "# Import MINST data\n",
    "from tensorflow.examples.tutorials.mnist import input_data\n",
    "mnist = input_data.read_data_sets('MNIST_data', one_hot=True)\n",
    "\n",
    "M = 784\n",
    "K = 10\n",
    "with tf.name_scope('data'):\n",
    "    X = tf.placeholder(tf.float32, shape=[None, M], name='Input-Images')\n",
    "    Y = tf.placeholder(tf.float32, shape=[None, K], name='Output-Labels')\n",
    "    W = tf.get_variable('Weights', initializer=tf.zeros([M, K]))\n",
    "    b = tf.get_variable('Bias', initializer=tf.zeros([K]))\n",
    "\n",
    "with tf.name_scope('model'):\n",
    "    Yhat = tf.nn.softmax(tf.matmul(X, W) + b, name='Prediction-Labels')\n",
    "\n",
    "with tf.name_scope('loss'):\n",
    "    loss = tf.reduce_mean(-tf.reduce_sum(Y*tf.log(Yhat), axis=1), name=\"Cross-Entropy-Loss\")\n",
    "\n",
    "with tf.name_scope('optimizer'):\n",
    "    learning_rate = 0.01\n",
    "    optimizer = tf.train.GradientDescentOptimizer(learning_rate, name=\"SGD-Optimizer\")\n",
    "    update    = optimizer.minimize(loss)\n",
    "\n",
    "with tf.name_scope('summaries'):\n",
    "    tf.summary.scalar('loss', loss)\n",
    "    tf.summary.histogram('histogram-loss', loss)\n",
    "    summary_op = tf.summary.merge_all()"
   ]
  },
  {
   "cell_type": "code",
   "execution_count": 24,
   "metadata": {},
   "outputs": [
    {
     "name": "stdout",
     "output_type": "stream",
     "text": [
      "Epoch: 0 Cost: 1.1840799601511522\n",
      "Epoch: 1 Cost: 0.6655547692558974\n",
      "Epoch: 2 Cost: 0.5528438490629195\n",
      "Epoch: 3 Cost: 0.498795923536474\n",
      "Epoch: 4 Cost: 0.4655412225289777\n",
      "Epoch: 5 Cost: 0.4426300645145509\n",
      "Epoch: 6 Cost: 0.4255513329668478\n",
      "Epoch: 7 Cost: 0.4122547713193024\n",
      "Epoch: 8 Cost: 0.40142662343653773\n",
      "Epoch: 9 Cost: 0.3923996819691226\n",
      "Epoch: 10 Cost: 0.38483563106168406\n",
      "Epoch: 11 Cost: 0.37812514375556616\n",
      "Epoch: 12 Cost: 0.37241088249466603\n",
      "Epoch: 13 Cost: 0.36731028250672604\n",
      "Epoch: 14 Cost: 0.3627197983590038\n",
      "Epoch: 15 Cost: 0.35859281336719334\n",
      "Epoch: 16 Cost: 0.3548787142200902\n",
      "Epoch: 17 Cost: 0.3514982289346784\n",
      "Epoch: 18 Cost: 0.3482930705493145\n",
      "Epoch: 19 Cost: 0.34541787773370736\n",
      "Epoch: 20 Cost: 0.3427592510526825\n",
      "Epoch: 21 Cost: 0.3402828113870188\n",
      "Epoch: 22 Cost: 0.33794825472614953\n",
      "Epoch: 23 Cost: 0.33570627655495283\n",
      "Epoch: 24 Cost: 0.3336671879887579\n"
     ]
    }
   ],
   "source": [
    "# Train\n",
    "num_epochs  = 25\n",
    "batch_size  = 100\n",
    "\n",
    "with tf.Session() as sess:\n",
    "    writer = tf.summary.FileWriter('log/logistic4', sess.graph)\n",
    "    \n",
    "    sess.run(tf.global_variables_initializer())\n",
    "    total_batch = int(mnist.train.num_examples/batch_size)\n",
    "    for epoch in range(num_epochs):\n",
    "        average_cost = 0\n",
    "        for batch in range(total_batch):\n",
    "            batch_X, batch_Y = mnist.train.next_batch(batch_size)\n",
    "            _, c = sess.run([update, loss], feed_dict={X: batch_X,\n",
    "                                                       Y: batch_Y})\n",
    "            average_cost += c / total_batch\n",
    "            summary = sess.run(summary_op, feed_dict={X: batch_X,\n",
    "                                                    Y: batch_Y})\n",
    "            global_step = epoch*total_batch + batch\n",
    "            writer.add_summary(summary, global_step=)\n",
    "        print(\"Epoch:\",epoch,\"Cost:\",average_cost)\n",
    "        \n",
    "        \n",
    "        \n",
    "    writer.close()"
   ]
  },
  {
   "cell_type": "markdown",
   "metadata": {},
   "source": [
    "## Exercise\n",
    "Nicely visualize the linear regression you implemented in the previous exercise.\n"
   ]
  },
  {
   "cell_type": "code",
   "execution_count": null,
   "metadata": {},
   "outputs": [],
   "source": []
  }
 ],
 "metadata": {
  "kernelspec": {
   "display_name": "Python [conda env:tensorflow_workshop]",
   "language": "python",
   "name": "conda-env-tensorflow_workshop-py"
  },
  "language_info": {
   "codemirror_mode": {
    "name": "ipython",
    "version": 3
   },
   "file_extension": ".py",
   "mimetype": "text/x-python",
   "name": "python",
   "nbconvert_exporter": "python",
   "pygments_lexer": "ipython3",
   "version": "3.6.4"
  }
 },
 "nbformat": 4,
 "nbformat_minor": 2
}
