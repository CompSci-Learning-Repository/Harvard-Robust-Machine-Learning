{
 "cells": [
  {
   "cell_type": "markdown",
   "metadata": {},
   "source": [
    "\n",
    "## Introduction to TensorFlow\n",
    "\n",
    "### What is TensorFlow?\n",
    "TensorFlow is an open source machine learning library developed by Google. They were originally using it inside the company, then they made it open source in 2015. TensorFlow APIs are provided in `Python` and `C++`. We'll use the Python API, but note that most operations are implemented in `C++`under the hood for fast numerical computation / optimization. If interested, definitely check out the [source code](https://github.com/tensorflow/tensorflow), as some of the sample codes can be useful for your project as well.\n",
    "\n",
    "TensorFlow supports runs on multiple CPUs and GPUs, making it scalable in \"big data\" and \"deep learning\" settings. Another notable feature is TensorBoard, which is a visualization tool for your model runs (covered in Section 4).\n",
    "\n",
    "### Why TensorFlow?\n",
    "TensorFlow is the go-to framework for modern machine learning. As you can see below, TensorFlow is by far the most popular deep learning framework on GitHub. This also means that there are tons of sample code, StackOverflow questions and blog posts on the web, which is great.\n",
    "\n",
    "![](images/2_tensorflow.png)\n",
    "\n",
    "Although we'll be using TensorFlow, other libraries are also very nice, and there are many others not on this graph that are unique and interesting.\n",
    "\n",
    "Few notes on some of the other libraries listed above:\n",
    "- Keras: Think of Keras as a \"wrapper\" for other libraries like TensorFlow, Theano. You can run reasonably sophisticated neural network models very quickly, e.g. [LSTM](https://keras.io/layers/recurrent/#lstm) is just a one liner! Citing the Keras documentation, \"It was developed with a focus on enabling fast experimentation. Being able to go from idea to result with the least possible delay is key to doing good research.\"\n",
    "- PyTorch: Primarily developed by Facebook people. Sasha likes it.\n",
    "- Theano: Unfortunately, the library development and support ended in 2017. So don't use it if you're new. There are people who have been using it, trying to convert to TensorFlow.\n",
    "\n",
    "### Exercise\n",
    "Google or search on GitHub and find three interesting open source projects on machine learning and deep learning."
   ]
  }
 ],
 "metadata": {
  "kernelspec": {
   "display_name": "Python [conda env:tensorflow_workshop]",
   "language": "python",
   "name": "conda-env-tensorflow_workshop-py"
  },
  "language_info": {
   "codemirror_mode": {
    "name": "ipython",
    "version": 3
   },
   "file_extension": ".py",
   "mimetype": "text/x-python",
   "name": "python",
   "nbconvert_exporter": "python",
   "pygments_lexer": "ipython3",
   "version": "3.6.4"
  }
 },
 "nbformat": 4,
 "nbformat_minor": 2
}
